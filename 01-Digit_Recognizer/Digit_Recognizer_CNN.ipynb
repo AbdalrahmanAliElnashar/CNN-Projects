{
  "cells": [
    {
      "cell_type": "markdown",
      "metadata": {
        "id": "view-in-github",
        "colab_type": "text"
      },
      "source": [
        "<a href=\"https://colab.research.google.com/github/AbdalrahmanAliElnashar/CNN-Projects/blob/main/01-Digit_Recognizer/Digit_Recognizer_CNN.ipynb\" target=\"_parent\"><img src=\"https://colab.research.google.com/assets/colab-badge.svg\" alt=\"Open In Colab\"/></a>"
      ]
    },
    {
      "cell_type": "markdown",
      "id": "74c979f6",
      "metadata": {
        "id": "74c979f6"
      },
      "source": [
        "# This Notebook is concerned with **Digit Recognizing** from MNIST Dataset Using **CNN**\n",
        "\n",
        "\n",
        "-----\n",
        "\n"
      ]
    },
    {
      "cell_type": "markdown",
      "source": [
        "### 1.1 Upload Kaggle.json to connect Colab to kaggle"
      ],
      "metadata": {
        "id": "hNyOMROrlHKy"
      },
      "id": "hNyOMROrlHKy"
    },
    {
      "cell_type": "code",
      "source": [
        "from google.colab import files\n",
        "files.upload()"
      ],
      "metadata": {
        "colab": {
          "base_uri": "https://localhost:8080/",
          "height": 90
        },
        "id": "ed2dfbYSZNCz",
        "outputId": "8ad0b2ca-0eab-46f4-f7eb-7987a8e9ef72"
      },
      "id": "ed2dfbYSZNCz",
      "execution_count": null,
      "outputs": [
        {
          "output_type": "display_data",
          "data": {
            "text/plain": [
              "<IPython.core.display.HTML object>"
            ],
            "text/html": [
              "\n",
              "     <input type=\"file\" id=\"files-6ab32896-d6ac-4b9c-9697-35013d16aa8f\" name=\"files[]\" multiple disabled\n",
              "        style=\"border:none\" />\n",
              "     <output id=\"result-6ab32896-d6ac-4b9c-9697-35013d16aa8f\">\n",
              "      Upload widget is only available when the cell has been executed in the\n",
              "      current browser session. Please rerun this cell to enable.\n",
              "      </output>\n",
              "      <script>// Copyright 2017 Google LLC\n",
              "//\n",
              "// Licensed under the Apache License, Version 2.0 (the \"License\");\n",
              "// you may not use this file except in compliance with the License.\n",
              "// You may obtain a copy of the License at\n",
              "//\n",
              "//      http://www.apache.org/licenses/LICENSE-2.0\n",
              "//\n",
              "// Unless required by applicable law or agreed to in writing, software\n",
              "// distributed under the License is distributed on an \"AS IS\" BASIS,\n",
              "// WITHOUT WARRANTIES OR CONDITIONS OF ANY KIND, either express or implied.\n",
              "// See the License for the specific language governing permissions and\n",
              "// limitations under the License.\n",
              "\n",
              "/**\n",
              " * @fileoverview Helpers for google.colab Python module.\n",
              " */\n",
              "(function(scope) {\n",
              "function span(text, styleAttributes = {}) {\n",
              "  const element = document.createElement('span');\n",
              "  element.textContent = text;\n",
              "  for (const key of Object.keys(styleAttributes)) {\n",
              "    element.style[key] = styleAttributes[key];\n",
              "  }\n",
              "  return element;\n",
              "}\n",
              "\n",
              "// Max number of bytes which will be uploaded at a time.\n",
              "const MAX_PAYLOAD_SIZE = 100 * 1024;\n",
              "\n",
              "function _uploadFiles(inputId, outputId) {\n",
              "  const steps = uploadFilesStep(inputId, outputId);\n",
              "  const outputElement = document.getElementById(outputId);\n",
              "  // Cache steps on the outputElement to make it available for the next call\n",
              "  // to uploadFilesContinue from Python.\n",
              "  outputElement.steps = steps;\n",
              "\n",
              "  return _uploadFilesContinue(outputId);\n",
              "}\n",
              "\n",
              "// This is roughly an async generator (not supported in the browser yet),\n",
              "// where there are multiple asynchronous steps and the Python side is going\n",
              "// to poll for completion of each step.\n",
              "// This uses a Promise to block the python side on completion of each step,\n",
              "// then passes the result of the previous step as the input to the next step.\n",
              "function _uploadFilesContinue(outputId) {\n",
              "  const outputElement = document.getElementById(outputId);\n",
              "  const steps = outputElement.steps;\n",
              "\n",
              "  const next = steps.next(outputElement.lastPromiseValue);\n",
              "  return Promise.resolve(next.value.promise).then((value) => {\n",
              "    // Cache the last promise value to make it available to the next\n",
              "    // step of the generator.\n",
              "    outputElement.lastPromiseValue = value;\n",
              "    return next.value.response;\n",
              "  });\n",
              "}\n",
              "\n",
              "/**\n",
              " * Generator function which is called between each async step of the upload\n",
              " * process.\n",
              " * @param {string} inputId Element ID of the input file picker element.\n",
              " * @param {string} outputId Element ID of the output display.\n",
              " * @return {!Iterable<!Object>} Iterable of next steps.\n",
              " */\n",
              "function* uploadFilesStep(inputId, outputId) {\n",
              "  const inputElement = document.getElementById(inputId);\n",
              "  inputElement.disabled = false;\n",
              "\n",
              "  const outputElement = document.getElementById(outputId);\n",
              "  outputElement.innerHTML = '';\n",
              "\n",
              "  const pickedPromise = new Promise((resolve) => {\n",
              "    inputElement.addEventListener('change', (e) => {\n",
              "      resolve(e.target.files);\n",
              "    });\n",
              "  });\n",
              "\n",
              "  const cancel = document.createElement('button');\n",
              "  inputElement.parentElement.appendChild(cancel);\n",
              "  cancel.textContent = 'Cancel upload';\n",
              "  const cancelPromise = new Promise((resolve) => {\n",
              "    cancel.onclick = () => {\n",
              "      resolve(null);\n",
              "    };\n",
              "  });\n",
              "\n",
              "  // Wait for the user to pick the files.\n",
              "  const files = yield {\n",
              "    promise: Promise.race([pickedPromise, cancelPromise]),\n",
              "    response: {\n",
              "      action: 'starting',\n",
              "    }\n",
              "  };\n",
              "\n",
              "  cancel.remove();\n",
              "\n",
              "  // Disable the input element since further picks are not allowed.\n",
              "  inputElement.disabled = true;\n",
              "\n",
              "  if (!files) {\n",
              "    return {\n",
              "      response: {\n",
              "        action: 'complete',\n",
              "      }\n",
              "    };\n",
              "  }\n",
              "\n",
              "  for (const file of files) {\n",
              "    const li = document.createElement('li');\n",
              "    li.append(span(file.name, {fontWeight: 'bold'}));\n",
              "    li.append(span(\n",
              "        `(${file.type || 'n/a'}) - ${file.size} bytes, ` +\n",
              "        `last modified: ${\n",
              "            file.lastModifiedDate ? file.lastModifiedDate.toLocaleDateString() :\n",
              "                                    'n/a'} - `));\n",
              "    const percent = span('0% done');\n",
              "    li.appendChild(percent);\n",
              "\n",
              "    outputElement.appendChild(li);\n",
              "\n",
              "    const fileDataPromise = new Promise((resolve) => {\n",
              "      const reader = new FileReader();\n",
              "      reader.onload = (e) => {\n",
              "        resolve(e.target.result);\n",
              "      };\n",
              "      reader.readAsArrayBuffer(file);\n",
              "    });\n",
              "    // Wait for the data to be ready.\n",
              "    let fileData = yield {\n",
              "      promise: fileDataPromise,\n",
              "      response: {\n",
              "        action: 'continue',\n",
              "      }\n",
              "    };\n",
              "\n",
              "    // Use a chunked sending to avoid message size limits. See b/62115660.\n",
              "    let position = 0;\n",
              "    do {\n",
              "      const length = Math.min(fileData.byteLength - position, MAX_PAYLOAD_SIZE);\n",
              "      const chunk = new Uint8Array(fileData, position, length);\n",
              "      position += length;\n",
              "\n",
              "      const base64 = btoa(String.fromCharCode.apply(null, chunk));\n",
              "      yield {\n",
              "        response: {\n",
              "          action: 'append',\n",
              "          file: file.name,\n",
              "          data: base64,\n",
              "        },\n",
              "      };\n",
              "\n",
              "      let percentDone = fileData.byteLength === 0 ?\n",
              "          100 :\n",
              "          Math.round((position / fileData.byteLength) * 100);\n",
              "      percent.textContent = `${percentDone}% done`;\n",
              "\n",
              "    } while (position < fileData.byteLength);\n",
              "  }\n",
              "\n",
              "  // All done.\n",
              "  yield {\n",
              "    response: {\n",
              "      action: 'complete',\n",
              "    }\n",
              "  };\n",
              "}\n",
              "\n",
              "scope.google = scope.google || {};\n",
              "scope.google.colab = scope.google.colab || {};\n",
              "scope.google.colab._files = {\n",
              "  _uploadFiles,\n",
              "  _uploadFilesContinue,\n",
              "};\n",
              "})(self);\n",
              "</script> "
            ]
          },
          "metadata": {}
        },
        {
          "output_type": "stream",
          "name": "stdout",
          "text": [
            "Saving kaggle.json to kaggle.json\n"
          ]
        },
        {
          "output_type": "execute_result",
          "data": {
            "text/plain": [
              "{'kaggle.json': b'{\"username\":\"abdalrahmanelnashar\",\"key\":\"f2bec9720ff7fca08e17f5c9f67dc36f\"}'}"
            ]
          },
          "metadata": {},
          "execution_count": 2
        }
      ]
    },
    {
      "cell_type": "code",
      "source": [
        "!mkdir -p ~/.kaggle\n",
        "!cp kaggle.json ~/.kaggle/\n",
        "!chmod 600 ~/.kaggle/kaggle.json"
      ],
      "metadata": {
        "id": "U2giQv2_ZM_-"
      },
      "id": "U2giQv2_ZM_-",
      "execution_count": null,
      "outputs": []
    },
    {
      "cell_type": "markdown",
      "source": [
        "## 1.2 Download dataset form Kaggle"
      ],
      "metadata": {
        "id": "FZUilrp8lT26"
      },
      "id": "FZUilrp8lT26"
    },
    {
      "cell_type": "code",
      "source": [
        "! kaggle competitions download -c digit-recognizer"
      ],
      "metadata": {
        "colab": {
          "base_uri": "https://localhost:8080/"
        },
        "id": "SDUS04B-ZM6m",
        "outputId": "17552040-c20b-4078-cb68-35fb996f1e5b"
      },
      "id": "SDUS04B-ZM6m",
      "execution_count": null,
      "outputs": [
        {
          "output_type": "stream",
          "name": "stdout",
          "text": [
            "Downloading digit-recognizer.zip to /content\n",
            " 78% 12.0M/15.3M [00:00<00:00, 21.9MB/s]\n",
            "100% 15.3M/15.3M [00:00<00:00, 16.9MB/s]\n"
          ]
        }
      ]
    },
    {
      "cell_type": "markdown",
      "source": [
        "## 1.3 Unzip dataset"
      ],
      "metadata": {
        "id": "XkM6gTGGlZLi"
      },
      "id": "XkM6gTGGlZLi"
    },
    {
      "cell_type": "code",
      "source": [
        "!unzip /content/digit-recognizer.zip"
      ],
      "metadata": {
        "colab": {
          "base_uri": "https://localhost:8080/"
        },
        "id": "hakCd12aaZjf",
        "outputId": "e1241e48-8500-4ebb-9c85-719925f5152e"
      },
      "id": "hakCd12aaZjf",
      "execution_count": null,
      "outputs": [
        {
          "output_type": "stream",
          "name": "stdout",
          "text": [
            "Archive:  /content/digit-recognizer.zip\n",
            "  inflating: sample_submission.csv   \n",
            "  inflating: test.csv                \n",
            "  inflating: train.csv               \n"
          ]
        }
      ]
    },
    {
      "cell_type": "markdown",
      "source": [
        "## 1.4 Import libraries"
      ],
      "metadata": {
        "id": "YzA8aleQlorq"
      },
      "id": "YzA8aleQlorq"
    },
    {
      "cell_type": "code",
      "execution_count": null,
      "id": "5a7b2ce8",
      "metadata": {
        "id": "5a7b2ce8"
      },
      "outputs": [],
      "source": [
        "# import libraries\n",
        "import pandas as pd\n",
        "import numpy as np\n",
        "import matplotlib.pyplot as plt\n",
        "import matplotlib.image as mpimg\n",
        "import seaborn as sns\n",
        "%matplotlib inline\n",
        "\n",
        "np.random.seed(2)\n",
        "\n",
        "from sklearn.model_selection import train_test_split\n",
        "from sklearn.metrics import confusion_matrix\n",
        "import itertools\n",
        "\n",
        "from keras.utils.np_utils import to_categorical # convert to one-hot-encoding\n",
        "from keras.models import Sequential\n",
        "from keras.layers import Dense, Dropout, Flatten, Conv2D, MaxPool2D\n",
        "from keras.optimizers import RMSprop\n",
        "from keras.preprocessing.image import ImageDataGenerator\n",
        "from keras.callbacks import ReduceLROnPlateau\n",
        "\n",
        "\n",
        "sns.set(style='white', context='notebook', palette='deep')"
      ]
    },
    {
      "cell_type": "markdown",
      "id": "c53affb5",
      "metadata": {
        "id": "c53affb5"
      },
      "source": [
        "# 2. Data Preparation"
      ]
    },
    {
      "cell_type": "markdown",
      "id": "8b80410f",
      "metadata": {
        "id": "8b80410f"
      },
      "source": [
        "## 2.1 Laod Dataset"
      ]
    },
    {
      "cell_type": "code",
      "execution_count": null,
      "id": "426c6012",
      "metadata": {
        "id": "426c6012"
      },
      "outputs": [],
      "source": [
        "train_data = pd.read_csv('train.csv')\n",
        "test_data = pd.read_csv('test.csv')"
      ]
    },
    {
      "cell_type": "code",
      "execution_count": null,
      "id": "16324a19",
      "metadata": {
        "id": "16324a19"
      },
      "outputs": [],
      "source": [
        "X_train = train_data.drop(labels='label', axis= 1)\n",
        "Y_train = train_data['label'] # Y_train = train.label"
      ]
    },
    {
      "cell_type": "code",
      "execution_count": null,
      "id": "55153efe",
      "metadata": {
        "colab": {
          "base_uri": "https://localhost:8080/"
        },
        "id": "55153efe",
        "outputId": "7cbaf1d2-7d8a-4c2b-c427-dcd5a4a97a6b"
      },
      "outputs": [
        {
          "output_type": "stream",
          "name": "stdout",
          "text": [
            "(42000, 785)\n",
            "(42000, 784)\n",
            "(42000,)\n"
          ]
        }
      ],
      "source": [
        "print(train_data.shape)\n",
        "print(X_train.shape)\n",
        "print(Y_train.shape)"
      ]
    },
    {
      "cell_type": "code",
      "execution_count": null,
      "id": "ce6033ae",
      "metadata": {
        "colab": {
          "base_uri": "https://localhost:8080/"
        },
        "id": "ce6033ae",
        "outputId": "e8ec5bc7-e81f-4fc7-82dc-63718db09c76"
      },
      "outputs": [
        {
          "output_type": "stream",
          "name": "stdout",
          "text": [
            "1    4684\n",
            "7    4401\n",
            "3    4351\n",
            "9    4188\n",
            "2    4177\n",
            "6    4137\n",
            "0    4132\n",
            "4    4072\n",
            "8    4063\n",
            "5    3795\n",
            "Name: label, dtype: int64\n"
          ]
        }
      ],
      "source": [
        "# Check balance in training dataset\n",
        "print(Y_train.value_counts(ascending=False))"
      ]
    },
    {
      "cell_type": "code",
      "execution_count": null,
      "id": "006a3e49",
      "metadata": {
        "colab": {
          "base_uri": "https://localhost:8080/",
          "height": 611
        },
        "id": "006a3e49",
        "outputId": "3d255c76-afe3-4128-8044-d63ebd10e5c3"
      },
      "outputs": [
        {
          "output_type": "display_data",
          "data": {
            "text/plain": [
              "<Figure size 720x720 with 1 Axes>"
            ],
            "image/png": "[encoded data removed]"
          },
          "metadata": {}
        }
      ],
      "source": [
        "plt.figure(figsize=(10, 10))\n",
        "sns.countplot(x=Y_train)\n",
        "plt.show()"
      ]
    },
    {
      "cell_type": "markdown",
      "id": "6c9fe1b7",
      "metadata": {
        "id": "6c9fe1b7"
      },
      "source": [
        "## 2.2 Check missing values"
      ]
    },
    {
      "cell_type": "code",
      "execution_count": null,
      "id": "17ff7575",
      "metadata": {
        "colab": {
          "base_uri": "https://localhost:8080/"
        },
        "id": "17ff7575",
        "outputId": "6e16caf0-4d02-4b23-9120-5239a786e39c"
      },
      "outputs": [
        {
          "output_type": "stream",
          "name": "stdout",
          "text": [
            "There are not missing values in the training data\n"
          ]
        }
      ],
      "source": [
        "missing = X_train.isnull().any()\n",
        "if missing.any() == True:\n",
        "    print(\"There are missing values in the training data\")\n",
        "else:\n",
        "    print('There are not missing values in the training data')"
      ]
    },
    {
      "cell_type": "code",
      "source": [
        "print(type(X_train))"
      ],
      "metadata": {
        "colab": {
          "base_uri": "https://localhost:8080/"
        },
        "id": "1If_Vqx2dlee",
        "outputId": "1eeb015c-1237-456d-d22a-8035d8a39226"
      },
      "id": "1If_Vqx2dlee",
      "execution_count": null,
      "outputs": [
        {
          "output_type": "stream",
          "name": "stdout",
          "text": [
            "<class 'pandas.core.frame.DataFrame'>\n"
          ]
        }
      ]
    },
    {
      "cell_type": "markdown",
      "id": "677c5a14",
      "metadata": {
        "id": "677c5a14"
      },
      "source": [
        "## 2.3 Normalization"
      ]
    },
    {
      "cell_type": "code",
      "execution_count": null,
      "id": "13a716be",
      "metadata": {
        "id": "13a716be"
      },
      "outputs": [],
      "source": [
        "X_train = X_train / 255.0\n",
        "X_test = test_data / 255.0 # Dataframe Object\n",
        "X_train = np.array(X_train) # Covert to numpy array\n",
        "X_test = np.array(X_test) # Covert to numpy array"
      ]
    },
    {
      "cell_type": "code",
      "source": [
        "print(type(X_train))"
      ],
      "metadata": {
        "colab": {
          "base_uri": "https://localhost:8080/"
        },
        "id": "PBbvvDscdtAf",
        "outputId": "82fac334-f8bf-41ee-bc4d-cc52a319ad4c"
      },
      "id": "PBbvvDscdtAf",
      "execution_count": null,
      "outputs": [
        {
          "output_type": "stream",
          "name": "stdout",
          "text": [
            "<class 'numpy.ndarray'>\n"
          ]
        }
      ]
    },
    {
      "cell_type": "markdown",
      "id": "41059bb4",
      "metadata": {
        "id": "41059bb4"
      },
      "source": [
        "## 2.4 Reshape"
      ]
    },
    {
      "cell_type": "code",
      "execution_count": null,
      "id": "ebb5b635",
      "metadata": {
        "colab": {
          "base_uri": "https://localhost:8080/"
        },
        "id": "ebb5b635",
        "outputId": "56eb1d42-42ea-4cc7-d6cc-06133e46aa50"
      },
      "outputs": [
        {
          "output_type": "stream",
          "name": "stdout",
          "text": [
            "(42000, 28, 28, 1)\n",
            "(28000, 28, 28, 1)\n"
          ]
        }
      ],
      "source": [
        "X_train = X_train.reshape(-1, 28,28, 1) # you can replace len(X_train) with -1\n",
        "X_test = X_test.reshape(-1, 28,28, 1)   #  you can replace len(X_test) with -1  \n",
        "print(X_train.shape)\n",
        "print(X_test.shape)"
      ]
    },
    {
      "cell_type": "markdown",
      "id": "d4f0fa8c",
      "metadata": {
        "id": "d4f0fa8c"
      },
      "source": [
        "## 2.5 label Encoding"
      ]
    },
    {
      "cell_type": "code",
      "execution_count": null,
      "id": "ed6df614",
      "metadata": {
        "id": "ed6df614"
      },
      "outputs": [],
      "source": [
        "# Encode labels to one hot vectors (ex : 2 -> [0,0,1,0,0,0,0,0,0,0])\n",
        "Y_train = to_categorical(Y_train, num_classes = 10)"
      ]
    },
    {
      "cell_type": "markdown",
      "id": "85792aef",
      "metadata": {
        "id": "85792aef"
      },
      "source": [
        "## 2.6 Split training and valdiation set\n"
      ]
    },
    {
      "cell_type": "code",
      "execution_count": null,
      "id": "28206044",
      "metadata": {
        "id": "28206044"
      },
      "outputs": [],
      "source": [
        "X_train, X_val, Y_train, Y_val = train_test_split(X_train, Y_train, test_size=0.1, random_state=2)"
      ]
    },
    {
      "cell_type": "markdown",
      "id": "760b4b42",
      "metadata": {
        "id": "760b4b42"
      },
      "source": [
        "## 2.7 Figure some images"
      ]
    },
    {
      "cell_type": "code",
      "execution_count": null,
      "id": "7c596f29",
      "metadata": {
        "colab": {
          "base_uri": "https://localhost:8080/",
          "height": 1000
        },
        "id": "7c596f29",
        "outputId": "78b5d922-0237-4b69-f861-bf555185be51"
      },
      "outputs": [
        {
          "output_type": "stream",
          "name": "stderr",
          "text": [
            "/usr/local/lib/python3.7/dist-packages/matplotlib/text.py:1165: FutureWarning: elementwise comparison failed; returning scalar instead, but in the future will perform elementwise comparison\n",
            "  if s != self._text:\n"
          ]
        },
        {
          "output_type": "display_data",
          "data": {
            "text/plain": [
              "<Figure size 432x288 with 1 Axes>"
            ],
            "image/png": "[encoded data removed]"
          },
          "metadata": {}
        },
        {
          "output_type": "display_data",
          "data": {
            "text/plain": [
              "<Figure size 432x288 with 1 Axes>"
            ],
            "image/png": "[encoded data removed]"
          },
          "metadata": {}
        },
        {
          "output_type": "display_data",
          "data": {
            "text/plain": [
              "<Figure size 432x288 with 1 Axes>"
            ],
            "image/png": "[encoded data removed]"
          },
          "metadata": {}
        },
        {
          "output_type": "display_data",
          "data": {
            "text/plain": [
              "<Figure size 432x288 with 1 Axes>"
            ],
            "image/png": "[encoded data removed]"
          },
          "metadata": {}
        },
        {
          "output_type": "display_data",
          "data": {
            "text/plain": [
              "<Figure size 432x288 with 1 Axes>"
            ],
            "image/png": "[encoded data removed]"
          },
          "metadata": {}
        }
      ],
      "source": [
        "for i in range(5):\n",
        "    plt.imshow(X_train[i][:,:,0], cmap=plt.cm.binary)\n",
        "    plt.title(Y_train[i])\n",
        "    plt.show()"
      ]
    },
    {
      "cell_type": "markdown",
      "id": "8d9b377e",
      "metadata": {
        "id": "8d9b377e"
      },
      "source": [
        "# Build CNN"
      ]
    },
    {
      "cell_type": "markdown",
      "id": "4440ab4a",
      "metadata": {
        "id": "4440ab4a"
      },
      "source": [
        "## 3.1 Initialize the CNN Network"
      ]
    },
    {
      "cell_type": "code",
      "execution_count": null,
      "id": "b5dc5724",
      "metadata": {
        "id": "b5dc5724"
      },
      "outputs": [],
      "source": [
        "# my CNN architechture is In -> [[Conv2D->relu]*2 -> MaxPool2D -> Dropout]*2 -> Flatten -> Dense -> Dropout -> Out\n",
        "\n",
        "model = Sequential()\n",
        "model.add(Conv2D(filters=32, kernel_size=(5,5), activation='relu', input_shape=(28,28,1), padding='same'))\n",
        "model.add(Conv2D(filters=32, kernel_size=(5,5), activation='relu', padding='same'))\n",
        "model.add(MaxPool2D(pool_size=(2, 2)))\n",
        "model.add(Dropout(0.25))\n",
        "\n",
        "          \n",
        "model.add(Conv2D(filters=64, kernel_size=(3,3), activation='relu', padding='same'))\n",
        "model.add(Conv2D(filters=64, kernel_size=(3,3), activation='relu', padding='same'))\n",
        "model.add(MaxPool2D(pool_size=(2,2), strides=(2,2)))\n",
        "model.add(Dropout(0.25))\n",
        "          \n",
        "model.add(Flatten())\n",
        "model.add(Dense(265, activation='relu'))\n",
        "model.add(Dropout(0.5))\n",
        "model.add(Dense(10, activation='softmax'))   "
      ]
    },
    {
      "cell_type": "markdown",
      "id": "d90e65da",
      "metadata": {
        "id": "d90e65da"
      },
      "source": [
        "### 3.1.2 Optimizer"
      ]
    },
    {
      "cell_type": "code",
      "execution_count": null,
      "id": "8faca910",
      "metadata": {
        "id": "8faca910"
      },
      "outputs": [],
      "source": [
        "# Define the optimizer\n",
        "optimizer = RMSprop(learning_rate=0.001, rho=0.9, epsilon=1e-08, decay=0.0)"
      ]
    },
    {
      "cell_type": "markdown",
      "source": [
        "### 3.1.2 Compile Neural Network"
      ],
      "metadata": {
        "id": "hND2cZjRrGLi"
      },
      "id": "hND2cZjRrGLi"
    },
    {
      "cell_type": "code",
      "execution_count": null,
      "id": "d4d7a6fa",
      "metadata": {
        "id": "d4d7a6fa"
      },
      "outputs": [],
      "source": [
        "# Compile the model\n",
        "model.compile(optimizer = optimizer , loss = \"categorical_crossentropy\", metrics=[\"accuracy\"])"
      ]
    },
    {
      "cell_type": "markdown",
      "source": [
        "### 3.1.3 Learning rate Reduction"
      ],
      "metadata": {
        "id": "LiouT8aVrNVO"
      },
      "id": "LiouT8aVrNVO"
    },
    {
      "cell_type": "code",
      "execution_count": null,
      "id": "6083c9a9",
      "metadata": {
        "id": "6083c9a9"
      },
      "outputs": [],
      "source": [
        "# Set a learning rate annealer\n",
        "learning_rate_reduction = ReduceLROnPlateau(monitor='val_acc', \n",
        "                                            patience=3, \n",
        "                                            verbose=1, \n",
        "                                            factor=0.5, \n",
        "                                            min_lr=0.00001)"
      ]
    },
    {
      "cell_type": "markdown",
      "source": [
        "### 3.1.4 Epochs and batch size"
      ],
      "metadata": {
        "id": "EPj44C1lrTQ0"
      },
      "id": "EPj44C1lrTQ0"
    },
    {
      "cell_type": "code",
      "execution_count": null,
      "id": "38a9c670",
      "metadata": {
        "id": "38a9c670"
      },
      "outputs": [],
      "source": [
        "epochs = 10\n",
        "batch_size = 86"
      ]
    },
    {
      "cell_type": "markdown",
      "source": [
        "## 3.2 Train model without Data Augmentation"
      ],
      "metadata": {
        "id": "vNhP_xkZrZbW"
      },
      "id": "vNhP_xkZrZbW"
    },
    {
      "cell_type": "code",
      "execution_count": null,
      "id": "73fa272c",
      "metadata": {
        "colab": {
          "base_uri": "https://localhost:8080/"
        },
        "id": "73fa272c",
        "outputId": "832d7b2e-85ca-4197-bfa2-ae819c6bfe19"
      },
      "outputs": [
        {
          "output_type": "stream",
          "name": "stdout",
          "text": [
            "Epoch 1/10\n",
            "440/440 - 13s - loss: 0.2377 - accuracy: 0.9251 - val_loss: 0.0699 - val_accuracy: 0.9779 - 13s/epoch - 29ms/step\n",
            "Epoch 2/10\n",
            "440/440 - 3s - loss: 0.0737 - accuracy: 0.9780 - val_loss: 0.0373 - val_accuracy: 0.9893 - 3s/epoch - 8ms/step\n",
            "Epoch 3/10\n",
            "440/440 - 3s - loss: 0.0555 - accuracy: 0.9837 - val_loss: 0.0348 - val_accuracy: 0.9895 - 3s/epoch - 8ms/step\n",
            "Epoch 4/10\n",
            "440/440 - 3s - loss: 0.0473 - accuracy: 0.9863 - val_loss: 0.0342 - val_accuracy: 0.9912 - 3s/epoch - 8ms/step\n",
            "Epoch 5/10\n",
            "440/440 - 3s - loss: 0.0381 - accuracy: 0.9885 - val_loss: 0.0296 - val_accuracy: 0.9910 - 3s/epoch - 8ms/step\n",
            "Epoch 6/10\n",
            "440/440 - 3s - loss: 0.0350 - accuracy: 0.9901 - val_loss: 0.0255 - val_accuracy: 0.9924 - 3s/epoch - 8ms/step\n",
            "Epoch 7/10\n",
            "440/440 - 3s - loss: 0.0330 - accuracy: 0.9902 - val_loss: 0.0276 - val_accuracy: 0.9917 - 3s/epoch - 8ms/step\n",
            "Epoch 8/10\n",
            "440/440 - 3s - loss: 0.0304 - accuracy: 0.9910 - val_loss: 0.0285 - val_accuracy: 0.9917 - 3s/epoch - 8ms/step\n",
            "Epoch 9/10\n",
            "440/440 - 3s - loss: 0.0316 - accuracy: 0.9903 - val_loss: 0.0253 - val_accuracy: 0.9924 - 3s/epoch - 8ms/step\n",
            "Epoch 10/10\n",
            "440/440 - 3s - loss: 0.0281 - accuracy: 0.9917 - val_loss: 0.0314 - val_accuracy: 0.9936 - 3s/epoch - 8ms/step\n"
          ]
        }
      ],
      "source": [
        "# Without data augmentation i obtained an accuracy of 0.98114\n",
        "history = model.fit(X_train, Y_train, batch_size = batch_size, epochs = epochs, \n",
        "         validation_data = (X_val, Y_val), verbose = 2)"
      ]
    },
    {
      "cell_type": "markdown",
      "source": [
        "###  3.2.1 Save the model"
      ],
      "metadata": {
        "id": "oE4PsgX1ri71"
      },
      "id": "oE4PsgX1ri71"
    },
    {
      "cell_type": "code",
      "source": [
        "# Save Model\n",
        "model.save(r'content/Saved_Model_1.h5')"
      ],
      "metadata": {
        "id": "0K0plDzkqz3h"
      },
      "id": "0K0plDzkqz3h",
      "execution_count": null,
      "outputs": []
    },
    {
      "cell_type": "markdown",
      "source": [
        "## 3.3 Data Augmentation using **ImageDataGenerator**"
      ],
      "metadata": {
        "id": "L4lkJSRjrm1m"
      },
      "id": "L4lkJSRjrm1m"
    },
    {
      "cell_type": "code",
      "execution_count": null,
      "id": "fa5fe01a",
      "metadata": {
        "id": "fa5fe01a"
      },
      "outputs": [],
      "source": [
        "# With data augmentation to prevent overfitting (accuracy 0.99286)\n",
        "\n",
        "datagen = ImageDataGenerator(\n",
        "        featurewise_center=False,  # set input mean to 0 over the dataset\n",
        "        samplewise_center=False,  # set each sample mean to 0\n",
        "        featurewise_std_normalization=False,  # divide inputs by std of the dataset\n",
        "        samplewise_std_normalization=False,  # divide each input by its std\n",
        "        zca_whitening=False,  # apply ZCA whitening\n",
        "        rotation_range=10,  # randomly rotate images in the range (degrees, 0 to 180)\n",
        "        zoom_range = 0.1, # Randomly zoom image \n",
        "        width_shift_range=0.1,  # randomly shift images horizontally (fraction of total width)\n",
        "        height_shift_range=0.1,  # randomly shift images vertically (fraction of total height)\n",
        "        horizontal_flip=False,  # randomly flip images\n",
        "        vertical_flip=False)  # randomly flip images\n",
        "\n",
        "\n",
        "datagen.fit(X_train)"
      ]
    },
    {
      "cell_type": "markdown",
      "source": [
        "### 3.3.1 train model with data augmentaion"
      ],
      "metadata": {
        "id": "WgHXOIkRs91t"
      },
      "id": "WgHXOIkRs91t"
    },
    {
      "cell_type": "code",
      "execution_count": null,
      "id": "62748450",
      "metadata": {
        "colab": {
          "base_uri": "https://localhost:8080/"
        },
        "id": "62748450",
        "outputId": "5be7b8aa-c421-4209-df35-7a8c7ce57148"
      },
      "outputs": [
        {
          "output_type": "stream",
          "name": "stdout",
          "text": [
            "Epoch 1/10\n"
          ]
        },
        {
          "output_type": "stream",
          "name": "stderr",
          "text": [
            "WARNING:tensorflow:Learning rate reduction is conditioned on metric `val_acc` which is not available. Available metrics are: loss,accuracy,val_loss,val_accuracy,lr\n"
          ]
        },
        {
          "output_type": "stream",
          "name": "stdout",
          "text": [
            "439/439 - 12s - loss: 0.0778 - accuracy: 0.9773 - val_loss: 0.0278 - val_accuracy: 0.9898 - lr: 0.0010 - 12s/epoch - 27ms/step\n",
            "Epoch 2/10\n"
          ]
        },
        {
          "output_type": "stream",
          "name": "stderr",
          "text": [
            "WARNING:tensorflow:Learning rate reduction is conditioned on metric `val_acc` which is not available. Available metrics are: loss,accuracy,val_loss,val_accuracy,lr\n"
          ]
        },
        {
          "output_type": "stream",
          "name": "stdout",
          "text": [
            "439/439 - 12s - loss: 0.0703 - accuracy: 0.9802 - val_loss: 0.0340 - val_accuracy: 0.9902 - lr: 0.0010 - 12s/epoch - 27ms/step\n",
            "Epoch 3/10\n"
          ]
        },
        {
          "output_type": "stream",
          "name": "stderr",
          "text": [
            "WARNING:tensorflow:Learning rate reduction is conditioned on metric `val_acc` which is not available. Available metrics are: loss,accuracy,val_loss,val_accuracy,lr\n"
          ]
        },
        {
          "output_type": "stream",
          "name": "stdout",
          "text": [
            "439/439 - 12s - loss: 0.0716 - accuracy: 0.9801 - val_loss: 0.0235 - val_accuracy: 0.9929 - lr: 0.0010 - 12s/epoch - 28ms/step\n",
            "Epoch 4/10\n"
          ]
        },
        {
          "output_type": "stream",
          "name": "stderr",
          "text": [
            "WARNING:tensorflow:Learning rate reduction is conditioned on metric `val_acc` which is not available. Available metrics are: loss,accuracy,val_loss,val_accuracy,lr\n"
          ]
        },
        {
          "output_type": "stream",
          "name": "stdout",
          "text": [
            "439/439 - 13s - loss: 0.0640 - accuracy: 0.9813 - val_loss: 0.0316 - val_accuracy: 0.9929 - lr: 0.0010 - 13s/epoch - 29ms/step\n",
            "Epoch 5/10\n"
          ]
        },
        {
          "output_type": "stream",
          "name": "stderr",
          "text": [
            "WARNING:tensorflow:Learning rate reduction is conditioned on metric `val_acc` which is not available. Available metrics are: loss,accuracy,val_loss,val_accuracy,lr\n"
          ]
        },
        {
          "output_type": "stream",
          "name": "stdout",
          "text": [
            "439/439 - 12s - loss: 0.0665 - accuracy: 0.9818 - val_loss: 0.0270 - val_accuracy: 0.9917 - lr: 0.0010 - 12s/epoch - 27ms/step\n",
            "Epoch 6/10\n"
          ]
        },
        {
          "output_type": "stream",
          "name": "stderr",
          "text": [
            "WARNING:tensorflow:Learning rate reduction is conditioned on metric `val_acc` which is not available. Available metrics are: loss,accuracy,val_loss,val_accuracy,lr\n"
          ]
        },
        {
          "output_type": "stream",
          "name": "stdout",
          "text": [
            "439/439 - 12s - loss: 0.0680 - accuracy: 0.9809 - val_loss: 0.0367 - val_accuracy: 0.9898 - lr: 0.0010 - 12s/epoch - 28ms/step\n",
            "Epoch 7/10\n"
          ]
        },
        {
          "output_type": "stream",
          "name": "stderr",
          "text": [
            "WARNING:tensorflow:Learning rate reduction is conditioned on metric `val_acc` which is not available. Available metrics are: loss,accuracy,val_loss,val_accuracy,lr\n"
          ]
        },
        {
          "output_type": "stream",
          "name": "stdout",
          "text": [
            "439/439 - 12s - loss: 0.0702 - accuracy: 0.9810 - val_loss: 0.0226 - val_accuracy: 0.9924 - lr: 0.0010 - 12s/epoch - 27ms/step\n",
            "Epoch 8/10\n"
          ]
        },
        {
          "output_type": "stream",
          "name": "stderr",
          "text": [
            "WARNING:tensorflow:Learning rate reduction is conditioned on metric `val_acc` which is not available. Available metrics are: loss,accuracy,val_loss,val_accuracy,lr\n"
          ]
        },
        {
          "output_type": "stream",
          "name": "stdout",
          "text": [
            "439/439 - 12s - loss: 0.0614 - accuracy: 0.9830 - val_loss: 0.0228 - val_accuracy: 0.9929 - lr: 0.0010 - 12s/epoch - 27ms/step\n",
            "Epoch 9/10\n"
          ]
        },
        {
          "output_type": "stream",
          "name": "stderr",
          "text": [
            "WARNING:tensorflow:Learning rate reduction is conditioned on metric `val_acc` which is not available. Available metrics are: loss,accuracy,val_loss,val_accuracy,lr\n"
          ]
        },
        {
          "output_type": "stream",
          "name": "stdout",
          "text": [
            "439/439 - 12s - loss: 0.0709 - accuracy: 0.9818 - val_loss: 0.0247 - val_accuracy: 0.9924 - lr: 0.0010 - 12s/epoch - 27ms/step\n",
            "Epoch 10/10\n"
          ]
        },
        {
          "output_type": "stream",
          "name": "stderr",
          "text": [
            "WARNING:tensorflow:Learning rate reduction is conditioned on metric `val_acc` which is not available. Available metrics are: loss,accuracy,val_loss,val_accuracy,lr\n"
          ]
        },
        {
          "output_type": "stream",
          "name": "stdout",
          "text": [
            "439/439 - 12s - loss: 0.0673 - accuracy: 0.9825 - val_loss: 0.0323 - val_accuracy: 0.9929 - lr: 0.0010 - 12s/epoch - 28ms/step\n"
          ]
        }
      ],
      "source": [
        "# Fit the model\n",
        "history = model.fit(datagen.flow(X_train,Y_train, batch_size=batch_size),\n",
        "                              epochs = epochs, validation_data = (X_val,Y_val),\n",
        "                              verbose = 2, steps_per_epoch=X_train.shape[0] // batch_size\n",
        "                              , callbacks=[learning_rate_reduction])"
      ]
    },
    {
      "cell_type": "markdown",
      "source": [
        "### 3.3.2 Save the model"
      ],
      "metadata": {
        "id": "L8PfuYZGtFhi"
      },
      "id": "L8PfuYZGtFhi"
    },
    {
      "cell_type": "code",
      "source": [
        "model.save(r'content/Saved_Model_2.h5')"
      ],
      "metadata": {
        "id": "ignbe8zArj07"
      },
      "id": "ignbe8zArj07",
      "execution_count": null,
      "outputs": []
    },
    {
      "cell_type": "markdown",
      "source": [
        "## 3.4 Model Evaluation"
      ],
      "metadata": {
        "id": "CTFSyoybtOJ3"
      },
      "id": "CTFSyoybtOJ3"
    },
    {
      "cell_type": "markdown",
      "source": [
        "### 3.4.1 Accuarcy and Loss Function"
      ],
      "metadata": {
        "id": "VmPLfq4StlEs"
      },
      "id": "VmPLfq4StlEs"
    },
    {
      "cell_type": "code",
      "execution_count": null,
      "id": "9a2ae428",
      "metadata": {
        "colab": {
          "base_uri": "https://localhost:8080/",
          "height": 271
        },
        "id": "9a2ae428",
        "outputId": "bb2d7b6f-be55-4c8e-a4af-f0aca35abf00"
      },
      "outputs": [
        {
          "output_type": "display_data",
          "data": {
            "text/plain": [
              "<Figure size 432x288 with 2 Axes>"
            ],
            "image/png": "[encoded data removed]"
          },
          "metadata": {}
        }
      ],
      "source": [
        "# Plot the loss and accuracy curves for training and validation \n",
        "fig, ax = plt.subplots(2,1)\n",
        "ax[0].plot(history.history['loss'], color='b', label=\"Training loss\")\n",
        "ax[0].plot(history.history['val_loss'], color='r', label=\"validation loss\",axes =ax[0])\n",
        "legend = ax[0].legend(loc='best', shadow=True)\n",
        "\n",
        "ax[1].plot(history.history['accuracy'], color='b', label=\"Training accuracy\")\n",
        "ax[1].plot(history.history['val_accuracy'], color='r',label=\"Validation accuracy\")\n",
        "legend = ax[1].legend(loc='best', shadow=True)"
      ]
    },
    {
      "cell_type": "markdown",
      "source": [
        "### 3.4.2 Confusion Matrix"
      ],
      "metadata": {
        "id": "3VXwj-omtaaj"
      },
      "id": "3VXwj-omtaaj"
    },
    {
      "cell_type": "code",
      "execution_count": null,
      "id": "4b81b986",
      "metadata": {
        "colab": {
          "base_uri": "https://localhost:8080/",
          "height": 327
        },
        "id": "4b81b986",
        "outputId": "0ade2dfb-4923-4873-c478-59b1316d4a04"
      },
      "outputs": [
        {
          "output_type": "stream",
          "name": "stdout",
          "text": [
            "132/132 [==============================] - 0s 2ms/step\n"
          ]
        },
        {
          "output_type": "display_data",
          "data": {
            "text/plain": [
              "<Figure size 432x288 with 2 Axes>"
            ],
            "image/png": "[encoded data removed]"
          },
          "metadata": {}
        }
      ],
      "source": [
        "# Look at confusion matrix \n",
        "\n",
        "def plot_confusion_matrix(cm, classes,\n",
        "                          normalize=False,\n",
        "                          title='Confusion matrix',\n",
        "                          cmap=plt.cm.Blues):\n",
        "    \"\"\"\n",
        "    This function prints and plots the confusion matrix.\n",
        "    Normalization can be applied by setting `normalize=True`.\n",
        "    \"\"\"\n",
        "    plt.imshow(cm, interpolation='nearest', cmap=cmap)\n",
        "    plt.title(title)\n",
        "    plt.colorbar()\n",
        "    tick_marks = np.arange(len(classes))\n",
        "    plt.xticks(tick_marks, classes, rotation=45)\n",
        "    plt.yticks(tick_marks, classes)\n",
        "\n",
        "    if normalize:\n",
        "        cm = cm.astype('float') / cm.sum(axis=1)[:, np.newaxis]\n",
        "\n",
        "    thresh = cm.max() / 2.\n",
        "    for i, j in itertools.product(range(cm.shape[0]), range(cm.shape[1])):\n",
        "        plt.text(j, i, cm[i, j],\n",
        "                 horizontalalignment=\"center\",\n",
        "                 color=\"white\" if cm[i, j] > thresh else \"black\")\n",
        "\n",
        "    plt.tight_layout()\n",
        "    plt.ylabel('True label')\n",
        "    plt.xlabel('Predicted label')\n",
        "\n",
        "# Predict the values from the validation dataset\n",
        "Y_pred = model.predict(X_val)\n",
        "# Convert predictions classes to one hot vectors \n",
        "Y_pred_classes = np.argmax(Y_pred,axis = 1) \n",
        "# Convert validation observations to one hot vectors\n",
        "Y_true = np.argmax(Y_val,axis = 1) \n",
        "# compute the confusion matrix\n",
        "confusion_mtx = confusion_matrix(Y_true, Y_pred_classes) \n",
        "# plot the confusion matrix\n",
        "plot_confusion_matrix(confusion_mtx, classes = range(10)) "
      ]
    },
    {
      "cell_type": "markdown",
      "source": [
        "## 3.5 Plot some error results \n"
      ],
      "metadata": {
        "id": "u7CG0-Q0tw-P"
      },
      "id": "u7CG0-Q0tw-P"
    },
    {
      "cell_type": "code",
      "execution_count": null,
      "id": "3a974085",
      "metadata": {
        "colab": {
          "base_uri": "https://localhost:8080/",
          "height": 298
        },
        "id": "3a974085",
        "outputId": "a2c375eb-59a8-424a-ce93-403498735ea4"
      },
      "outputs": [
        {
          "output_type": "display_data",
          "data": {
            "text/plain": [
              "<Figure size 432x288 with 6 Axes>"
            ],
            "image/png": "[encoded data removed]"
          },
          "metadata": {}
        }
      ],
      "source": [
        "\n",
        "# Errors are difference between predicted labels and true labels\n",
        "errors = (Y_pred_classes - Y_true != 0)\n",
        "\n",
        "Y_pred_classes_errors = Y_pred_classes[errors]\n",
        "Y_pred_errors = Y_pred[errors]\n",
        "Y_true_errors = Y_true[errors]\n",
        "X_val_errors = X_val[errors]\n",
        "\n",
        "def display_errors(errors_index,img_errors,pred_errors, obs_errors):\n",
        "    \"\"\" This function shows 6 images with their predicted and real labels\"\"\"\n",
        "    n = 0\n",
        "    nrows = 2\n",
        "    ncols = 3\n",
        "    fig, ax = plt.subplots(nrows,ncols,sharex=True,sharey=True)\n",
        "    for row in range(nrows):\n",
        "        for col in range(ncols):\n",
        "            error = errors_index[n]\n",
        "            ax[row,col].imshow((img_errors[error]).reshape((28,28)))\n",
        "            ax[row,col].set_title(\"Predicted label :{}\\nTrue label :{}\".format(pred_errors[error],obs_errors[error]))\n",
        "            n += 1\n",
        "\n",
        "# Probabilities of the wrong predicted numbers\n",
        "Y_pred_errors_prob = np.max(Y_pred_errors,axis = 1)\n",
        "\n",
        "# Predicted probabilities of the true values in the error set\n",
        "true_prob_errors = np.diagonal(np.take(Y_pred_errors, Y_true_errors, axis=1))\n",
        "\n",
        "# Difference between the probability of the predicted label and the true label\n",
        "delta_pred_true_errors = Y_pred_errors_prob - true_prob_errors\n",
        "\n",
        "# Sorted list of the delta prob errors\n",
        "sorted_dela_errors = np.argsort(delta_pred_true_errors)\n",
        "\n",
        "# Top 6 errors \n",
        "most_important_errors = sorted_dela_errors[-6:]\n",
        "\n",
        "# Show the top 6 errors\n",
        "display_errors(most_important_errors, X_val_errors, Y_pred_classes_errors, Y_true_errors)"
      ]
    },
    {
      "cell_type": "markdown",
      "source": [
        "## 3.6 Predict the Digit"
      ],
      "metadata": {
        "id": "fk1y0-MXt7h8"
      },
      "id": "fk1y0-MXt7h8"
    },
    {
      "cell_type": "code",
      "execution_count": null,
      "id": "c257c82c",
      "metadata": {
        "colab": {
          "base_uri": "https://localhost:8080/"
        },
        "id": "c257c82c",
        "outputId": "f78025a8-ce49-47ed-cb89-ae51f3f15edb"
      },
      "outputs": [
        {
          "output_type": "stream",
          "name": "stdout",
          "text": [
            "875/875 [==============================] - 3s 3ms/step\n"
          ]
        }
      ],
      "source": [
        "# predict results\n",
        "results = model.predict(X_test)\n",
        "\n",
        "# select the indix with the maximum probability\n",
        "results = np.argmax(results,axis = 1)\n",
        "\n",
        "results = pd.Series(results,name=\"Label\")\n"
      ]
    },
    {
      "cell_type": "code",
      "execution_count": null,
      "id": "91cc2acd",
      "metadata": {
        "id": "91cc2acd"
      },
      "outputs": [],
      "source": [
        "submission = pd.concat([pd.Series(range(1,28001),name = \"ImageId\"),results],axis = 1)\n",
        "\n",
        "submission.to_csv(\"cnn_mnist_datagen.csv\",index=False)"
      ]
    }
  ],
  "metadata": {
    "kernelspec": {
      "display_name": "Python 3 (ipykernel)",
      "language": "python",
      "name": "python3"
    },
    "language_info": {
      "codemirror_mode": {
        "name": "ipython",
        "version": 3
      },
      "file_extension": ".py",
      "mimetype": "text/x-python",
      "name": "python",
      "nbconvert_exporter": "python",
      "pygments_lexer": "ipython3",
      "version": "3.10.2"
    },
    "colab": {
      "provenance": [],
      "collapsed_sections": [
        "hNyOMROrlHKy",
        "FZUilrp8lT26",
        "XkM6gTGGlZLi"
      ],
      "include_colab_link": true
    },
    "accelerator": "GPU",
    "gpuClass": "standard"
  },
  "nbformat": 4,
  "nbformat_minor": 5
}